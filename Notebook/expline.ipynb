{
 "cells": [
  {
   "cell_type": "markdown",
   "id": "722cfabe-40e1-46ed-a365-b443cdae0c6c",
   "metadata": {},
   "source": [
    "### **1. Log Transformation**\n",
    "#### **Description**:\n",
    "- **Purpose**: To reduce skewness in data, especially for variables with a long right tail (e.g., income, prices).\n",
    "- **How it works**: Takes the logarithm of data values, which compresses larger values more than smaller values.\n",
    "- **Formula**:\n",
    "  $\n",
    "  x_{\\text{log}} = \\log(x + 1)\n",
    "  $\n",
    "  Adding `1` ensures no issues when `x = 0`."
   ]
  },
  {
   "cell_type": "markdown",
   "id": "8c4fee91-4547-4b55-b527-b3f7ee73bd82",
   "metadata": {},
   "source": [
    "#### **What it Does**:\n",
    "- Converts multiplicative relationships into additive ones.\n",
    "- Reduces the impact of outliers."
   ]
  },
  {
   "cell_type": "code",
   "execution_count": 1,
   "id": "ed9b9309-bdc1-4a86-8bfe-e7a3bfd6c7c7",
   "metadata": {},
   "outputs": [
    {
     "data": {
      "text/html": [
       "<div>\n",
       "<style scoped>\n",
       "    .dataframe tbody tr th:only-of-type {\n",
       "        vertical-align: middle;\n",
       "    }\n",
       "\n",
       "    .dataframe tbody tr th {\n",
       "        vertical-align: top;\n",
       "    }\n",
       "\n",
       "    .dataframe thead th {\n",
       "        text-align: right;\n",
       "    }\n",
       "</style>\n",
       "<table border=\"1\" class=\"dataframe\">\n",
       "  <thead>\n",
       "    <tr style=\"text-align: right;\">\n",
       "      <th></th>\n",
       "      <th>0</th>\n",
       "    </tr>\n",
       "  </thead>\n",
       "  <tbody>\n",
       "    <tr>\n",
       "      <th>count</th>\n",
       "      <td>5.000000</td>\n",
       "    </tr>\n",
       "    <tr>\n",
       "      <th>mean</th>\n",
       "      <td>2222.200000</td>\n",
       "    </tr>\n",
       "    <tr>\n",
       "      <th>std</th>\n",
       "      <td>4368.044093</td>\n",
       "    </tr>\n",
       "    <tr>\n",
       "      <th>min</th>\n",
       "      <td>1.000000</td>\n",
       "    </tr>\n",
       "    <tr>\n",
       "      <th>25%</th>\n",
       "      <td>10.000000</td>\n",
       "    </tr>\n",
       "    <tr>\n",
       "      <th>50%</th>\n",
       "      <td>100.000000</td>\n",
       "    </tr>\n",
       "    <tr>\n",
       "      <th>75%</th>\n",
       "      <td>1000.000000</td>\n",
       "    </tr>\n",
       "    <tr>\n",
       "      <th>max</th>\n",
       "      <td>10000.000000</td>\n",
       "    </tr>\n",
       "  </tbody>\n",
       "</table>\n",
       "</div>"
      ],
      "text/plain": [
       "                  0\n",
       "count      5.000000\n",
       "mean    2222.200000\n",
       "std     4368.044093\n",
       "min        1.000000\n",
       "25%       10.000000\n",
       "50%      100.000000\n",
       "75%     1000.000000\n",
       "max    10000.000000"
      ]
     },
     "execution_count": 1,
     "metadata": {},
     "output_type": "execute_result"
    }
   ],
   "source": [
    "# Before transformation:\n",
    "import pandas as pd\n",
    "data = pd.DataFrame([1, 10, 100, 1000, 10000])\n",
    "data.describe()"
   ]
  },
  {
   "cell_type": "code",
   "execution_count": 2,
   "id": "27ee0bf1-b661-415b-89d6-8999b79f552d",
   "metadata": {},
   "outputs": [
    {
     "data": {
      "text/html": [
       "<div>\n",
       "<style scoped>\n",
       "    .dataframe tbody tr th:only-of-type {\n",
       "        vertical-align: middle;\n",
       "    }\n",
       "\n",
       "    .dataframe tbody tr th {\n",
       "        vertical-align: top;\n",
       "    }\n",
       "\n",
       "    .dataframe thead th {\n",
       "        text-align: right;\n",
       "    }\n",
       "</style>\n",
       "<table border=\"1\" class=\"dataframe\">\n",
       "  <thead>\n",
       "    <tr style=\"text-align: right;\">\n",
       "      <th></th>\n",
       "      <th>0</th>\n",
       "    </tr>\n",
       "  </thead>\n",
       "  <tbody>\n",
       "    <tr>\n",
       "      <th>count</th>\n",
       "      <td>5.000000</td>\n",
       "    </tr>\n",
       "    <tr>\n",
       "      <th>mean</th>\n",
       "      <td>4.765072</td>\n",
       "    </tr>\n",
       "    <tr>\n",
       "      <th>std</th>\n",
       "      <td>3.411864</td>\n",
       "    </tr>\n",
       "    <tr>\n",
       "      <th>min</th>\n",
       "      <td>0.693147</td>\n",
       "    </tr>\n",
       "    <tr>\n",
       "      <th>25%</th>\n",
       "      <td>2.397895</td>\n",
       "    </tr>\n",
       "    <tr>\n",
       "      <th>50%</th>\n",
       "      <td>4.615121</td>\n",
       "    </tr>\n",
       "    <tr>\n",
       "      <th>75%</th>\n",
       "      <td>6.908755</td>\n",
       "    </tr>\n",
       "    <tr>\n",
       "      <th>max</th>\n",
       "      <td>9.210440</td>\n",
       "    </tr>\n",
       "  </tbody>\n",
       "</table>\n",
       "</div>"
      ],
      "text/plain": [
       "              0\n",
       "count  5.000000\n",
       "mean   4.765072\n",
       "std    3.411864\n",
       "min    0.693147\n",
       "25%    2.397895\n",
       "50%    4.615121\n",
       "75%    6.908755\n",
       "max    9.210440"
      ]
     },
     "execution_count": 2,
     "metadata": {},
     "output_type": "execute_result"
    }
   ],
   "source": [
    "#After log transformation:\n",
    "import numpy as np\n",
    "log_transformed = np.log1p(data)  # log(x+1)\n",
    "log_transformed.describe()"
   ]
  },
  {
   "cell_type": "markdown",
   "id": "3f07624b-fd8a-4648-8177-95703ace5f9c",
   "metadata": {},
   "source": [
    "#### **Use Case**:\n",
    "- Useful for skewed features like income (`$20,000`, `$100,000`, `$1,000,000`) or sales volume.\n",
    "\n",
    "---"
   ]
  },
  {
   "cell_type": "markdown",
   "id": "041d9276-9887-4cf8-b2f5-da4c09b8ccfc",
   "metadata": {},
   "source": [
    "### **2. Square Root Transformation**\n",
    "#### **Description**:\n",
    "- **Purpose**: Similar to log transformation, but less aggressive. It is used to stabilize variance and normalize data distributions.\n",
    "- **How it works**: Takes the square root of data values.\n",
    "- **Formula**:\n",
    "  $\n",
    "  x_{\\text{sqrt}} = \\sqrt{x}\n",
    "  $"
   ]
  },
  {
   "cell_type": "markdown",
   "id": "a693cb3e-63b1-4601-9d47-983e61c1f2f9",
   "metadata": {},
   "source": [
    "#### **What it Does**:\n",
    "- Reduces skewness for moderate right-tailed distributions.\n",
    "- Less compressive than the logarithmic transformation."
   ]
  },
  {
   "cell_type": "code",
   "execution_count": 3,
   "id": "888bbeb7-1ac1-4c62-8085-f1ab3ee21ae1",
   "metadata": {},
   "outputs": [
    {
     "data": {
      "text/html": [
       "<div>\n",
       "<style scoped>\n",
       "    .dataframe tbody tr th:only-of-type {\n",
       "        vertical-align: middle;\n",
       "    }\n",
       "\n",
       "    .dataframe tbody tr th {\n",
       "        vertical-align: top;\n",
       "    }\n",
       "\n",
       "    .dataframe thead th {\n",
       "        text-align: right;\n",
       "    }\n",
       "</style>\n",
       "<table border=\"1\" class=\"dataframe\">\n",
       "  <thead>\n",
       "    <tr style=\"text-align: right;\">\n",
       "      <th></th>\n",
       "      <th>0</th>\n",
       "    </tr>\n",
       "  </thead>\n",
       "  <tbody>\n",
       "    <tr>\n",
       "      <th>count</th>\n",
       "      <td>5.00000</td>\n",
       "    </tr>\n",
       "    <tr>\n",
       "      <th>mean</th>\n",
       "      <td>11.00000</td>\n",
       "    </tr>\n",
       "    <tr>\n",
       "      <th>std</th>\n",
       "      <td>9.66954</td>\n",
       "    </tr>\n",
       "    <tr>\n",
       "      <th>min</th>\n",
       "      <td>1.00000</td>\n",
       "    </tr>\n",
       "    <tr>\n",
       "      <th>25%</th>\n",
       "      <td>4.00000</td>\n",
       "    </tr>\n",
       "    <tr>\n",
       "      <th>50%</th>\n",
       "      <td>9.00000</td>\n",
       "    </tr>\n",
       "    <tr>\n",
       "      <th>75%</th>\n",
       "      <td>16.00000</td>\n",
       "    </tr>\n",
       "    <tr>\n",
       "      <th>max</th>\n",
       "      <td>25.00000</td>\n",
       "    </tr>\n",
       "  </tbody>\n",
       "</table>\n",
       "</div>"
      ],
      "text/plain": [
       "              0\n",
       "count   5.00000\n",
       "mean   11.00000\n",
       "std     9.66954\n",
       "min     1.00000\n",
       "25%     4.00000\n",
       "50%     9.00000\n",
       "75%    16.00000\n",
       "max    25.00000"
      ]
     },
     "execution_count": 3,
     "metadata": {},
     "output_type": "execute_result"
    }
   ],
   "source": [
    "# Before transformation:\n",
    "data = pd.DataFrame([1, 4, 9, 16, 25])\n",
    "data.describe()"
   ]
  },
  {
   "cell_type": "code",
   "execution_count": 4,
   "id": "c4f561f7-ba6c-4915-b008-10b6591fcbcc",
   "metadata": {},
   "outputs": [
    {
     "data": {
      "text/html": [
       "<div>\n",
       "<style scoped>\n",
       "    .dataframe tbody tr th:only-of-type {\n",
       "        vertical-align: middle;\n",
       "    }\n",
       "\n",
       "    .dataframe tbody tr th {\n",
       "        vertical-align: top;\n",
       "    }\n",
       "\n",
       "    .dataframe thead th {\n",
       "        text-align: right;\n",
       "    }\n",
       "</style>\n",
       "<table border=\"1\" class=\"dataframe\">\n",
       "  <thead>\n",
       "    <tr style=\"text-align: right;\">\n",
       "      <th></th>\n",
       "      <th>0</th>\n",
       "    </tr>\n",
       "  </thead>\n",
       "  <tbody>\n",
       "    <tr>\n",
       "      <th>count</th>\n",
       "      <td>5.000000</td>\n",
       "    </tr>\n",
       "    <tr>\n",
       "      <th>mean</th>\n",
       "      <td>3.000000</td>\n",
       "    </tr>\n",
       "    <tr>\n",
       "      <th>std</th>\n",
       "      <td>1.581139</td>\n",
       "    </tr>\n",
       "    <tr>\n",
       "      <th>min</th>\n",
       "      <td>1.000000</td>\n",
       "    </tr>\n",
       "    <tr>\n",
       "      <th>25%</th>\n",
       "      <td>2.000000</td>\n",
       "    </tr>\n",
       "    <tr>\n",
       "      <th>50%</th>\n",
       "      <td>3.000000</td>\n",
       "    </tr>\n",
       "    <tr>\n",
       "      <th>75%</th>\n",
       "      <td>4.000000</td>\n",
       "    </tr>\n",
       "    <tr>\n",
       "      <th>max</th>\n",
       "      <td>5.000000</td>\n",
       "    </tr>\n",
       "  </tbody>\n",
       "</table>\n",
       "</div>"
      ],
      "text/plain": [
       "              0\n",
       "count  5.000000\n",
       "mean   3.000000\n",
       "std    1.581139\n",
       "min    1.000000\n",
       "25%    2.000000\n",
       "50%    3.000000\n",
       "75%    4.000000\n",
       "max    5.000000"
      ]
     },
     "execution_count": 4,
     "metadata": {},
     "output_type": "execute_result"
    }
   ],
   "source": [
    "# After square root transformation:\n",
    "sqrt_transformed = np.sqrt(data)\n",
    "sqrt_transformed.describe()"
   ]
  },
  {
   "cell_type": "markdown",
   "id": "7bb834b8-e9b5-4d30-92ca-26ac2457d62f",
   "metadata": {},
   "source": [
    "#### **Use Case**:\n",
    "- Useful for data that follows a quadratic relationship or counts (e.g., population density, rainfall).\n",
    "\n",
    "---"
   ]
  },
  {
   "cell_type": "markdown",
   "id": "b94160c8-a818-495c-9e73-09cc7079e627",
   "metadata": {},
   "source": [
    "### **3. Z-Scores or IQR Method**\n",
    "#### **Description**:\n",
    "- **Purpose**: Identify and handle outliers in a dataset.\n",
    "- **How it works**:\n",
    "  - **Z-Score**: Measures how far a data point is from the mean in terms of standard deviations.\n",
    "    $\n",
    "    Z = \\frac{x - \\mu}{\\sigma}\n",
    "    $\n",
    "    Data points with \\( |Z| > 3 \\) are often considered outliers.\n",
    "  - **IQR (Interquartile Range)**: Based on the range between the first quartile (Q1) and the third quartile (Q3).\n",
    "    $\n",
    "    \\text{IQR} = Q3 - Q1\n",
    "    $\n",
    "    Outliers lie outside:\n",
    "    $\n",
    "    [Q1 - 1.5 \\cdot \\text{IQR}, Q3 + 1.5 \\cdot \\text{IQR}]\n",
    "    $"
   ]
  },
  {
   "cell_type": "markdown",
   "id": "75fb3f27-4094-4b8b-bea5-7a3d164f53e0",
   "metadata": {},
   "source": [
    "#### **What it Does**:\n",
    "- Z-Score identifies extreme deviations from the mean.\n",
    "- IQR handles non-normal distributions effectively by focusing on quartiles."
   ]
  },
  {
   "cell_type": "markdown",
   "id": "d989cc95-30ad-4caf-b182-d61ccb1986b1",
   "metadata": {},
   "source": [
    "**Z-Score**:"
   ]
  },
  {
   "cell_type": "code",
   "execution_count": 5,
   "id": "31fa97d3-70cc-43af-9d51-b0c207c67c25",
   "metadata": {},
   "outputs": [
    {
     "data": {
      "text/plain": [
       "5    200\n",
       "dtype: int64"
      ]
     },
     "execution_count": 5,
     "metadata": {},
     "output_type": "execute_result"
    }
   ],
   "source": [
    "from scipy.stats import zscore\n",
    "data = pd.Series([10, 12, 15, 18, 19, 200])  # Contains an outlier\n",
    "z_scores = zscore(data)\n",
    "outliers = data[abs(z_scores) > 1]  # Identify outliers usiuly use 3 \n",
    "outliers"
   ]
  },
  {
   "cell_type": "markdown",
   "id": "d43672f8-8cd5-4f9d-8bf3-22bee85c8740",
   "metadata": {},
   "source": [
    "**IQR**:"
   ]
  },
  {
   "cell_type": "code",
   "execution_count": 6,
   "id": "d533912d-8780-420a-a937-525be7a56d6b",
   "metadata": {},
   "outputs": [
    {
     "name": "stdout",
     "output_type": "stream",
     "text": [
      "5    200\n",
      "dtype: int64\n"
     ]
    }
   ],
   "source": [
    "Q1 = data.quantile(0.25)\n",
    "Q3 = data.quantile(0.75)\n",
    "IQR = Q3 - Q1\n",
    "outliers = data[(data < (Q1 - 1.5 * IQR)) | (data > (Q3 + 1.5 * IQR))]\n",
    "print(outliers)"
   ]
  },
  {
   "cell_type": "markdown",
   "id": "4abfaff1-52c7-40b9-b9f0-33d264eec35c",
   "metadata": {},
   "source": [
    "#### **Use Case**:\n",
    "- Z-Score: For normally distributed data.\n",
    "- IQR: For skewed or non-normal distributions.\n",
    "\n",
    "---"
   ]
  },
  {
   "cell_type": "markdown",
   "id": "4304a638-23fc-4110-96b2-48db5529b11b",
   "metadata": {},
   "source": [
    "### **4. Capping**\n",
    "#### **Description**:\n",
    "- **Purpose**: Treat outliers by capping extreme values at a specified percentile or threshold.\n",
    "- **How it works**:\n",
    "  - Define caps for outliers using percentiles (e.g., 5th and 95th percentiles).\n",
    "  - Replace values below the lower cap and above the upper cap with the respective caps."
   ]
  },
  {
   "cell_type": "markdown",
   "id": "d179272a-1e4d-43d2-805f-e8607d84a429",
   "metadata": {},
   "source": [
    "#### **What it Does**:\n",
    "- Limits the influence of extreme values while retaining the structure of the data."
   ]
  },
  {
   "cell_type": "code",
   "execution_count": 7,
   "id": "90039d1c-ba29-4b8e-987d-5a9d8cc23f2c",
   "metadata": {},
   "outputs": [
    {
     "data": {
      "text/plain": [
       "count      6.000000\n",
       "mean      45.666667\n",
       "std       75.685313\n",
       "min       10.000000\n",
       "25%       12.750000\n",
       "50%       16.500000\n",
       "75%       18.750000\n",
       "max      200.000000\n",
       "dtype: float64"
      ]
     },
     "execution_count": 7,
     "metadata": {},
     "output_type": "execute_result"
    }
   ],
   "source": [
    "data.describe()"
   ]
  },
  {
   "cell_type": "code",
   "execution_count": 8,
   "id": "8052c3b6-d77f-4723-a563-a41551c75167",
   "metadata": {},
   "outputs": [
    {
     "data": {
      "text/plain": [
       "count      6.000000\n",
       "mean      38.208333\n",
       "std       57.188377\n",
       "min       10.500000\n",
       "25%       12.750000\n",
       "50%       16.500000\n",
       "75%       18.750000\n",
       "max      154.750000\n",
       "dtype: float64"
      ]
     },
     "execution_count": 8,
     "metadata": {},
     "output_type": "execute_result"
    }
   ],
   "source": [
    "lower_cap = data.quantile(0.05)  # 5th percentile\n",
    "upper_cap = data.quantile(0.95)  # 95th percentile\n",
    "data_capped = data.clip(lower=lower_cap, upper=upper_cap)\n",
    "data_capped.describe()"
   ]
  },
  {
   "cell_type": "markdown",
   "id": "09c1b210-4dd6-4fbd-a3d7-061667939550",
   "metadata": {},
   "source": [
    "#### **Use Case**:\n",
    "- Useful in regression models to reduce the influence of outliers without completely removing them.\n",
    "\n",
    "---"
   ]
  },
  {
   "cell_type": "markdown",
   "id": "e497863b-51fe-4002-9658-78fb5f6a96bf",
   "metadata": {},
   "source": [
    "### **Comparison and Recommendations**\n",
    "| **Method**         | **Purpose**                          | **Best For**                                  | **Limitations**                             |\n",
    "|---------------------|--------------------------------------|-----------------------------------------------|---------------------------------------------|\n",
    "| **Log**            | Reduce skewness                     | Highly skewed data (e.g., income, sales)      | Can’t handle zeros or negative values.      |\n",
    "| **Sqrt**           | Stabilize variance                  | Moderately skewed data (e.g., counts)         | Less aggressive than log; may not be enough.|\n",
    "| **Z-Scores / IQR** | Detect and remove outliers           | Normal (Z-Scores) or non-normal (IQR) data    | May remove important outliers unintentionally. |\n",
    "| **Capping**        | Reduce outlier impact               | Preventing extreme outlier influence          | Alters original data; choosing caps is subjective.|"
   ]
  },
  {
   "cell_type": "markdown",
   "id": "fe50239a-9c0d-4070-8194-6f2d84fe22c0",
   "metadata": {},
   "source": [
    "---\n",
    "---"
   ]
  }
 ],
 "metadata": {
  "kernelspec": {
   "display_name": "Python 3 (ipykernel)",
   "language": "python",
   "name": "python3"
  },
  "language_info": {
   "codemirror_mode": {
    "name": "ipython",
    "version": 3
   },
   "file_extension": ".py",
   "mimetype": "text/x-python",
   "name": "python",
   "nbconvert_exporter": "python",
   "pygments_lexer": "ipython3",
   "version": "3.12.4"
  }
 },
 "nbformat": 4,
 "nbformat_minor": 5
}
